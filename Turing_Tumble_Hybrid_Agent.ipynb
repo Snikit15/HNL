{
 "cells": [
  {
   "cell_type": "markdown",
   "id": "87f661bd",
   "metadata": {},
   "source": [
    "# 🔧 Turing Tumble Hybrid Neuro-Symbolic Agent\n",
    "This notebook implements a hybrid neuro-symbolic pipeline for solving Turing Tumble puzzles. It includes:\n",
    "- A vision-based parser to extract board states from images\n",
    "- LLaVA for visual reasoning and descriptions\n",
    "- Graph construction from parsed board states\n",
    "- A Graph Neural Network (GNN) for symbolic reasoning and solving"
   ]
  },
  {
   "cell_type": "code",
   "execution_count": null,
   "id": "e7f3b0eb",
   "metadata": {},
   "outputs": [],
   "source": [
    "# 📦 Install required packages\n",
    "!pip install transformers accelerate torch torchvision torchaudio\n",
    "!pip install torch-geometric\n",
    "!pip install networkx opencv-python pillow matplotlib"
   ]
  },
  {
   "cell_type": "code",
   "execution_count": null,
   "id": "aadbd26b",
   "metadata": {},
   "outputs": [],
   "source": [
    "# 📌 Step 1: Parse board state from image (simple mock parser)\n",
    "import cv2\n",
    "import numpy as np\n",
    "def parse_board_state_from_image(image_path):\n",
    "    image = cv2.imread(image_path)\n",
    "    gray = cv2.cvtColor(image, cv2.COLOR_BGR2GRAY)\n",
    "    _, thresh = cv2.threshold(gray, 128, 255, cv2.THRESH_BINARY)\n",
    "    # Placeholder detection\n",
    "    board_state = {\n",
    "        \"components\": [\n",
    "            {\"type\": \"ramp\", \"position\": [2, 3]},\n",
    "            {\"type\": \"gear\", \"position\": [4, 5]}\n",
    "        ]\n",
    "    }\n",
    "    return board_state"
   ]
  },
  {
   "cell_type": "code",
   "execution_count": null,
   "id": "6a4504da",
   "metadata": {},
   "outputs": [],
   "source": [
    "# 🧠 Step 2: Extract description using LLaVA\n",
    "from transformers import LlavaProcessor, LlavaForConditionalGeneration\n",
    "from PIL import Image\n",
    "def extract_board_description_with_llava(image_path):\n",
    "    processor = LlavaProcessor.from_pretrained(\"liuhaotian/llava-v1.5-7b\")\n",
    "    model = LlavaForConditionalGeneration.from_pretrained(\"liuhaotian/llava-v1.5-7b\")\n",
    "    image = Image.open(image_path).convert(\"RGB\")\n",
    "    inputs = processor(images=image, return_tensors=\"pt\")\n",
    "    output = model.generate(**inputs)\n",
    "    caption = processor.decode(output[0], skip_special_tokens=True)\n",
    "    return caption"
   ]
  },
  {
   "cell_type": "code",
   "execution_count": null,
   "id": "19c029ae",
   "metadata": {},
   "outputs": [],
   "source": [
    "# 🔗 Step 3: Convert board state to graph\n",
    "import networkx as nx\n",
    "import torch\n",
    "from torch_geometric.data import Data as GNNData\n",
    "def convert_board_state_to_graph(board_state):\n",
    "    G = nx.DiGraph()\n",
    "    for idx, component in enumerate(board_state[\"components\"]):\n",
    "        G.add_node(idx, label=component[\"type\"], position=component[\"position\"])\n",
    "    for i in range(len(board_state[\"components\"]) - 1):\n",
    "        G.add_edge(i, i + 1)\n",
    "    return G\n",
    "\n",
    "def convert_nx_to_gnn_data(graph):\n",
    "    node_labels = [ord(graph.nodes[n]['label'][0]) for n in graph.nodes()]\n",
    "    x = torch.tensor([[label] for label in node_labels], dtype=torch.float)\n",
    "    edge_index = torch.tensor(list(graph.edges()), dtype=torch.long).t().contiguous()\n",
    "    return GNNData(x=x, edge_index=edge_index)"
   ]
  },
  {
   "cell_type": "code",
   "execution_count": null,
   "id": "777b42c3",
   "metadata": {},
   "outputs": [],
   "source": [
    "# 🧪 Step 4: Define GNN Model\n",
    "import torch.nn.functional as F\n",
    "from torch_geometric.nn import GCNConv\n",
    "class TuringTumbleGNN(torch.nn.Module):\n",
    "    def __init__(self):\n",
    "        super().__init__()\n",
    "        self.conv1 = GCNConv(1, 16)\n",
    "        self.conv2 = GCNConv(16, 2)\n",
    "    def forward(self, data):\n",
    "        x, edge_index = data.x, data.edge_index\n",
    "        x = self.conv1(x, edge_index).relu()\n",
    "        x = self.conv2(x, edge_index)\n",
    "        return x"
   ]
  },
  {
   "cell_type": "code",
   "execution_count": null,
   "id": "9c1228b1",
   "metadata": {},
   "outputs": [],
   "source": [
    "# 🚀 Step 5: Run Full Hybrid Pipeline\n",
    "def hybrid_pipeline(image_path):\n",
    "    print(\"[1] Extracting board description with LLaVA...\")\n",
    "    caption = extract_board_description_with_llava(image_path)\n",
    "    print(f\"[Caption]: {caption}\")\n",
    "    print(\"[2] Parsing board state from image...\")\n",
    "    board_state = parse_board_state_from_image(image_path)\n",
    "    print(\"[3] Converting board state to graph...\")\n",
    "    nx_graph = convert_board_state_to_graph(board_state)\n",
    "    gnn_data = convert_nx_to_gnn_data(nx_graph)\n",
    "    print(\"[4] Running symbolic reasoning via GNN...\")\n",
    "    model = TuringTumbleGNN()\n",
    "    output = model(gnn_data)\n",
    "    print(\"[GNN Output]:\", output)\n",
    "    return output"
   ]
  },
  {
   "cell_type": "code",
   "execution_count": null,
   "id": "1fe66cc2",
   "metadata": {},
   "outputs": [],
   "source": [
    "# 🔍 Test with Your Image (upload to Colab)\n",
    "from google.colab import files\n",
    "uploaded = files.upload()\n",
    "for fname in uploaded.keys():\n",
    "    print(\"Running hybrid pipeline on:\", fname)\n",
    "    hybrid_pipeline(fname)"
   ]
  }
 ],
 "metadata": {},
 "nbformat": 4,
 "nbformat_minor": 5
}

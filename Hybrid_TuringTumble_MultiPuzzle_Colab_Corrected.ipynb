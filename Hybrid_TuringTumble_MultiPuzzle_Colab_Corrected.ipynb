
{
 "cells": [
  {
   "cell_type": "code",
   "execution_count": null,
   "metadata": { },
   "outputs": [{}], 
   "source": '\n# Hybrid Puzzle Solver for Multiple .gv Files in a Zip\n!pip install networkx pydot torch torchvision torchaudio torch-geometric transformers\n\nimport os\nimport networkx as nx\nimport torch\nimport torch.nn.functional as F\nfrom torch_geometric.data import Data\nfrom torch_geometric.nn import GCNConv\nfrom transformers import GPT2Tokenizer, GPT2LMHeadModel\nimport matplotlib.pyplot as plt\nfrom google.colab import files\nimport zipfile\n\n# === STEP 1: Upload Zip of .gv Files ===\nprint("Upload your Challenges.zip containing .gv files")\nuploaded = files.upload()\n\nfor fn in uploaded:\n    if fn.endswith(".zip"):\n        with zipfile.ZipFile(fn, \'r\') as zip_ref:\n            zip_ref.extractall("puzzles")\n\n# === STEP 2: Load Graphviz .gv and Convert to NetworkX ===\ndef load_puzzle_graph(file_path):\n    return nx.nx_pydot.read_dot(file_path)\n\n# === STEP 3: Convert Graph to PyTorch Geometric Format ===\ndef graph_to_data(graph):\n    node_mapping = {node: i for i, node in enumerate(graph.nodes)}\n    features = []\n    for node in graph.nodes:\n        label = graph.nodes[node].get(\'label\', \'\').lower()\n        feat = [\n            \'ball\' in label,\n            \'bit\' in label,\n            \'gear\' in label,\n            \'interceptor\' in label,\n            \'crossover\' in label,\n            \'ramp\' in label,\n            \'toggle\' in label,\n            \'output\' in label\n        ]\n        features.append(torch.tensor(feat, dtype=torch.float))\n    edge_index = []\n    for src, dst in graph.edges:\n        edge_index.append([node_mapping[src], node_mapping[dst]])\n    x = torch.stack(features)\n    edge_index = torch.tensor(edge_index, dtype=torch.long).t().contiguous()\n    return Data(x=x, edge_index=edge_index)\n\n# === STEP 4: GNN Definition ===\nclass SymbolicGNN(torch.nn.Module):\n    def __init__(self, in_features=8, hidden=32, out_features=8):\n        super().__init__()\n        self.conv1 = GCNConv(in_features, hidden)\n        self.conv2 = GCNConv(hidden, out_features)\n    def forward(self, x, edge_index):\n        x = F.relu(self.conv1(x, edge_index))\n        x = self.conv2(x, edge_index)\n        return x\n\n# === STEP 5: GPT-2 Planner ===\nclass TransformerPlanner:\n    def __init__(self):\n        self.tokenizer = GPT2Tokenizer.from_pretrained("gpt2")\n        self.model = GPT2LMHeadModel.from_pretrained("gpt2")\n    def generate_plan(self, symbolic_output):\n        input_tokens = " ".join([f"{i}:{\',\'.join(map(str, f.tolist()))}" for i, f in enumerate(symbolic_output)])\n        inputs = self.tokenizer.encode(input_tokens, return_tensors="pt")\n        outputs = self.model.generate(inputs, max_length=100, num_return_sequences=1)\n        return self.tokenizer.decode(outputs[0], skip_special_tokens=True)\n\n# === STEP 6: Hybrid Agent ===\nclass HybridPuzzleAgent:\n    def __init__(self):\n        self.gnn = SymbolicGNN()\n        self.planner = TransformerPlanner()\n    def solve(self, graph):\n        data = graph_to_data(graph)\n        symbolic_output = self.gnn(data.x, data.edge_index)\n        return self.planner.generate_plan(symbolic_output)\n\n# === STEP 7: Run for All Puzzles ===\nagent = HybridPuzzleAgent()\npuzzle_folder = "puzzles"\nfor filename in sorted(os.listdir(puzzle_folder)):\n    if filename.endswith(".gv"):\n        path = os.path.join(puzzle_folder, filename)\n        print(f"\\nSolving: {filename}")\n        graph = load_puzzle_graph(path)\n        plan = agent.solve(graph)\n        print("Generated Plan:")\n        print(plan)\n        plt.figure(figsize=(8,6))\n        nx.draw(graph, with_labels=True, node_color=\'lightblue\', edge_color=\'gray\')\n        plt.title(f"Puzzle: {filename}")\n        plt.show()\n'
  }
 ],
 "metadata": {
  "kernelspec": {
   "display_name": "Python 3",
   "language": "python",
   "name": "python3"
  },
  "language_info": {
   "name": "python",
   "version": "3.10"
  }
 },
 "nbformat": 4,
 "nbformat_minor": 0
}
